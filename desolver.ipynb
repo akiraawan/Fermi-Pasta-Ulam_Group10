{
 "cells": [
  {
   "cell_type": "code",
   "execution_count": null,
   "metadata": {},
   "outputs": [
    {
     "name": "stderr",
     "output_type": "stream",
     "text": [
      "2024-06-04 12:26:17.791787: I tensorflow/tsl/cuda/cudart_stub.cc:28] Could not find cuda drivers on your machine, GPU will not be used.\n",
      "2024-06-04 12:26:18.021813: I tensorflow/tsl/cuda/cudart_stub.cc:28] Could not find cuda drivers on your machine, GPU will not be used.\n",
      "2024-06-04 12:26:18.023103: I tensorflow/core/platform/cpu_feature_guard.cc:182] This TensorFlow binary is optimized to use available CPU instructions in performance-critical operations.\n",
      "To enable the following instructions: AVX2 FMA, in other operations, rebuild TensorFlow with the appropriate compiler flags.\n",
      "2024-06-04 12:26:19.853184: W tensorflow/compiler/tf2tensorrt/utils/py_utils.cc:38] TF-TRT Warning: Could not find TensorRT\n"
     ]
    },
    {
     "name": "stdout",
     "output_type": "stream",
     "text": [
      "WARNING:tensorflow:Calling GradientTape.gradient on a persistent tape inside its context is significantly less efficient than calling it outside the context (it causes the gradient ops to be recorded on the tape, leading to increased CPU and memory usage). Only call GradientTape.gradient inside the context if you actually want to trace the gradient in order to compute higher order derivatives.\n",
      "WARNING:tensorflow:Calling GradientTape.gradient on a persistent tape inside its context is significantly less efficient than calling it outside the context (it causes the gradient ops to be recorded on the tape, leading to increased CPU and memory usage). Only call GradientTape.gradient inside the context if you actually want to trace the gradient in order to compute higher order derivatives.\n"
     ]
    },
    {
     "ename": "",
     "evalue": "",
     "output_type": "error",
     "traceback": [
      "\u001b[1;31mThe Kernel crashed while executing code in the current cell or a previous cell. \n",
      "\u001b[1;31mPlease review the code in the cell(s) to identify a possible cause of the failure. \n",
      "\u001b[1;31mClick <a href='https://aka.ms/vscodeJupyterKernelCrash'>here</a> for more info. \n",
      "\u001b[1;31mView Jupyter <a href='command:jupyter.viewOutput'>log</a> for further details."
     ]
    }
   ],
   "source": [
    "import tensorflow as tf\n",
    "from tensorflow.keras.models import Sequential, Model\n",
    "from tensorflow.keras.layers import Dense, Concatenate, Input\n",
    "from tensorflow.keras.optimizers import Nadam, Adam\n",
    "import matplotlib.pyplot as plt\n",
    "\n",
    "import numpy as np\n",
    "\n",
    "#Adjust for how many variables we differentiate. Works well for n = 1, falls apart for n = 2. TODO: Investigate.\n",
    "n_degrees = 2\n",
    "\n",
    "#Simple NN.\n",
    "model = Sequential([\n",
    "    Dense(256, input_dim=1, activation='tanh'),\n",
    "    Dense(256, activation='tanh'),\n",
    "    Dense(256, activation='tanh'),\n",
    "    Dense(256, activation='tanh'),\n",
    "    Dense(256, activation='tanh'),\n",
    "    Dense(n_degrees)\n",
    "])\n",
    "\n",
    "#Alternative model. Similar to paper.\n",
    "\"\"\"input_layer = Input(shape=(1,))\n",
    "split_1 = [Dense(32, activation='tanh')(input_layer) for i in range(n_degrees)]\n",
    "split_2 = [Dense(32, activation='tanh')(split_1[i]) for i in range(n_degrees)]\n",
    "output_layer = [Dense(1, activation='tanh')(split_2[i]) for i in range(n_degrees)]\n",
    "model = Model(inputs=input_layer,outputs = output_layer)\"\"\"\n",
    "\n",
    "opt = Adam(learning_rate=0.001)\n",
    "\n",
    "#Evaluate x, dx/dt, d2x/dt2 for model over time array.\n",
    "def eval_model(t, model):\n",
    "    with tf.GradientTape(persistent=True) as tape:\n",
    "        tape.watch(t)\n",
    "        with tf.GradientTape(persistent=True) as tape2:\n",
    "            tape2.watch(t)\n",
    "            x = tf.concat(model(t, training=True),axis=1)\n",
    "            dx = tf.concat([tape2.gradient(x[:,i],t) for i in range(n_degrees)],axis=1)\n",
    "        dx2 = tf.concat([tape.gradient(dx[:,i],t) for i in range(n_degrees)],axis=1)\n",
    "    return x, dx, dx2\n",
    "\n",
    "#PINN ODE loss (currently made for system of 2 ODEs for testing. We change this depending on the system and eventually implement an FPU loss)\n",
    "def ode_loss(t, x, dx, dx2):\n",
    "    total_ode = []\n",
    "    total_ode.append(tf.reduce_mean(tf.square(dx[:,0]-0.67*x[:,0]+1.33*x[:,1]*x[:,0])))\n",
    "    total_ode.append(tf.reduce_mean(tf.square(dx[:,1]+x[:,1]-x[:,0]*x[:,1])))\n",
    "    return tf.reduce_mean(total_ode)\n",
    "\n",
    "#PINN Initial condition loss.\n",
    "def ic_loss(x, dx, x0, dx0,include_dx=True):\n",
    "    return tf.reduce_mean(tf.square(x-x0)) + include_dx * tf.reduce_mean(tf.square(dx-dx0))\n",
    "\n",
    "#Define parameters\n",
    "n_epochs = 10000\n",
    "\n",
    "#Define a time grid to train on.\n",
    "resolution = 4096\n",
    "max_time = 5\n",
    "\n",
    "time = tf.constant(np.sort(np.random.rand(resolution) * max_time).reshape(-1,1),dtype=tf.float32)\n",
    "\n",
    "#Debugging variable to store final dx/dt\n",
    "final_grads = None\n",
    "\n",
    "#Custom training loop using PINN loss.\n",
    "for e in range(n_epochs):\n",
    "    with tf.GradientTape() as tape:\n",
    "        x, dx, dx2 = eval_model(time, model)\n",
    "        loss = ode_loss(time,x,dx,dx2) + ic_loss(x[0,:],dx[0],[1,1],[0],include_dx=False)\n",
    "        #Log loss. Loss should go to around 1e-5 or 1e-6 when it works fairly quickly and continue to converge. Plateaus at around e-1 for multivariate ODEs. TODO: Fix.\n",
    "        print(loss)\n",
    "    grad = tape.gradient(loss, model.trainable_variables)\n",
    "    opt.apply_gradients(zip(grad,model.trainable_variables))\n",
    "    if(e == n_epochs - 1):\n",
    "        final_grads = dx\n",
    "\n"
   ]
  },
  {
   "cell_type": "code",
   "execution_count": 7,
   "metadata": {},
   "outputs": [
    {
     "data": {
      "text/plain": [
       "<matplotlib.collections.PathCollection at 0x749453b58fa0>"
      ]
     },
     "execution_count": 7,
     "metadata": {},
     "output_type": "execute_result"
    },
    {
     "data": {
      "image/png": "[encoded data removed]",
      "text/plain": [
       "<Figure size 640x480 with 1 Axes>"
      ]
     },
     "metadata": {},
     "output_type": "display_data"
    }
   ],
   "source": [
    "import matplotlib.pyplot as plt\n",
    "import matplotlib.animation as anim\n",
    "\n",
    "#Evaluate model over discrete time array.\n",
    "testtime = np.arange(0,max_time,0.1).reshape(-1,1)\n",
    "x = tf.concat(model(testtime),axis=1)\n",
    "\n",
    "#Code for rendering animations of multivariate ODEs over time. It works, but no accurate solutions yet.\n",
    "\"\"\"fig, ax = plt.subplots()\n",
    "\n",
    "def animate(i):\n",
    "        ax.clear()\n",
    "        ax.set_ylim(bottom=-2,top=2)\n",
    "        ax.plot(x[i,:])\n",
    "        return ax\n",
    "\n",
    "animator = anim.FuncAnimation(fig, animate, frames=len(testtime),interval=100)\n",
    "animator.save(\"preview.mp4\",writer='ffmpeg')\"\"\"\n",
    "\n",
    "#Plot (in this case two) output variables of ODE.\n",
    "plt.scatter(testtime,x[:,0])\n",
    "plt.scatter(testtime,x[:,1])"
   ]
  }
 ],
 "metadata": {
  "kernelspec": {
   "display_name": "Python 3",
   "language": "python",
   "name": "python3"
  },
  "language_info": {
   "codemirror_mode": {
    "name": "ipython",
    "version": 3
   },
   "file_extension": ".py",
   "mimetype": "text/x-python",
   "name": "python",
   "nbconvert_exporter": "python",
   "pygments_lexer": "ipython3",
   "version": "3.10.12"
  }
 },
 "nbformat": 4,
 "nbformat_minor": 2
}
